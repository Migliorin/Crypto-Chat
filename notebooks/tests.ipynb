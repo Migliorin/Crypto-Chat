{
 "cells": [
  {
   "cell_type": "code",
   "execution_count": null,
   "metadata": {},
   "outputs": [],
   "source": [
    "import sys\n",
    "sys.path.append(\"../\")"
   ]
  },
  {
   "cell_type": "code",
   "execution_count": 2,
   "metadata": {},
   "outputs": [],
   "source": [
    "from user.user import User"
   ]
  },
  {
   "cell_type": "code",
   "execution_count": 3,
   "metadata": {},
   "outputs": [],
   "source": [
    "lucas = User(\"Lucas\")\n",
    "daniel = User(\"Daniel\")\n",
    "debora = User(\"Debora\")"
   ]
  },
  {
   "cell_type": "code",
   "execution_count": 23,
   "metadata": {},
   "outputs": [
    {
     "data": {
      "text/plain": [
       "{'p': 94250062556923655028095638571813075406719807909403291157281996294321940203767,\n",
       " 'g': 45093589254543595379238008440639992804537709139804555580447093943353774358082,\n",
       " 'h': 53465149014928883258702066674492305913718281393037455334462529111065193922221,\n",
       " 'iNumBits': 256}"
      ]
     },
     "execution_count": 23,
     "metadata": {},
     "output_type": "execute_result"
    }
   ],
   "source": [
    "lucas.public_key.__dict__"
   ]
  },
  {
   "cell_type": "code",
   "execution_count": 4,
   "metadata": {},
   "outputs": [],
   "source": [
    "import requests"
   ]
  },
  {
   "cell_type": "code",
   "execution_count": null,
   "metadata": {},
   "outputs": [
    {
     "data": {
      "text/plain": [
       "{'_content': b'{\"status\":true,\"finger_print\":\"6e2e0586-1ada-407a-9a64-23431391686d\"}',\n",
       " '_content_consumed': True,\n",
       " '_next': None,\n",
       " 'status_code': 200,\n",
       " 'headers': {'date': 'Tue, 16 Jan 2024 03:59:39 GMT', 'server': 'uvicorn', 'content-length': '69', 'content-type': 'application/json'},\n",
       " 'raw': <urllib3.response.HTTPResponse at 0x7f1d53fca610>,\n",
       " 'url': 'http://127.0.0.1:8000/make_login/',\n",
       " 'encoding': 'utf-8',\n",
       " 'history': [],\n",
       " 'reason': 'OK',\n",
       " 'cookies': <RequestsCookieJar[]>,\n",
       " 'elapsed': datetime.timedelta(microseconds=6302),\n",
       " 'request': <PreparedRequest [POST]>,\n",
       " 'connection': <requests.adapters.HTTPAdapter at 0x7f1d504a4700>}"
      ]
     },
     "execution_count": 7,
     "metadata": {},
     "output_type": "execute_result"
    }
   ],
   "source": [
    "payload = debora.public_key.__dict__\n",
    "payload.update({\"user_name\":\"deb\"})\n",
    "\n",
    "\n",
    "response = requests.post(\"http://127.0.0.1:8000/make_login/\",json=payload)\n",
    "\n",
    "response.__dict__"
   ]
  },
  {
   "cell_type": "code",
   "execution_count": 21,
   "metadata": {},
   "outputs": [
    {
     "data": {
      "text/plain": [
       "True"
      ]
     },
     "execution_count": 21,
     "metadata": {},
     "output_type": "execute_result"
    }
   ],
   "source": [
    "debora.add_know_user(\"danbiel\",daniel.public_key)"
   ]
  },
  {
   "cell_type": "code",
   "execution_count": 58,
   "metadata": {},
   "outputs": [
    {
     "data": {
      "text/plain": [
       "{'p': 69802918258094212656410723838245029011221452779165235464508454497225803104183,\n",
       " 'g': 22578214062107039413098606239479749346792560351198936157564761116054357711799,\n",
       " 'h': 37544546012417385637515494319787430604270906244300727472725065191989401213052,\n",
       " 'iNumBits': 256,\n",
       " 'user_name': 'daniel'}"
      ]
     },
     "execution_count": 58,
     "metadata": {},
     "output_type": "execute_result"
    }
   ],
   "source": [
    "daniel.public_key.__dict__"
   ]
  },
  {
   "cell_type": "code",
   "execution_count": 69,
   "metadata": {},
   "outputs": [
    {
     "data": {
      "text/plain": [
       "{'_content': b'{\"status\":true}',\n",
       " '_content_consumed': True,\n",
       " '_next': None,\n",
       " 'status_code': 200,\n",
       " 'headers': {'date': 'Tue, 16 Jan 2024 03:30:31 GMT', 'server': 'uvicorn', 'content-length': '15', 'content-type': 'application/json'},\n",
       " 'raw': <urllib3.response.HTTPResponse at 0x7fa00dddd7f0>,\n",
       " 'url': 'http://127.0.0.1:8000/send_msg/',\n",
       " 'encoding': 'utf-8',\n",
       " 'history': [],\n",
       " 'reason': 'OK',\n",
       " 'cookies': <RequestsCookieJar[]>,\n",
       " 'elapsed': datetime.timedelta(microseconds=2467),\n",
       " 'request': <PreparedRequest [POST]>,\n",
       " 'connection': <requests.adapters.HTTPAdapter at 0x7fa00ddd7700>}"
      ]
     },
     "execution_count": 69,
     "metadata": {},
     "output_type": "execute_result"
    }
   ],
   "source": [
    "res = lucas.send_msg(\"daniel\",\"Pilantra\")\n",
    "lucas_token = \"497a28ed-354d-4d69-a57f-109f943145fd\"\n",
    "\n",
    "response = requests.post(\"http://127.0.0.1:8000/send_msg/\",json={\n",
    "    \"sender\":\"lucas\",\n",
    "    \"receiver\":\"daniel\",\n",
    "    \"token\":lucas_token,\n",
    "    \"msg\":res\n",
    "})\n",
    "\n",
    "response.__dict__"
   ]
  },
  {
   "cell_type": "code",
   "execution_count": 70,
   "metadata": {},
   "outputs": [
    {
     "data": {
      "text/plain": [
       "'{\"status\":true,\"mesages\":{\"lucas\":[\"63062116451497107754793204705109766187974456029586551314428416731699988021300 66397304233096206675090167740722554171709060234189420251596181367903320440164 \",\"2481959981250584877800358549993127063243717936561741108940244239765432299868 57344967217244897550384810591846792615993278624595527389200553858753798194697 \",\"41831190538493987667429172939334068419221953769150078266714946164601131192109 2074595286758450663286507281448426171182777762601939007179318026464942779291 \",\"65529951884000108884338354815913055086209673348577980190161045049234698911996 61473581101390333212781971964252071806018900457193896874129605788597021469041 \",\"63707489028300524029385388307938219754989763963898900684747690254877045325050 56874313268689139436481812173028575171905550140394177334526213835959225644457 \",\"22865497801401094129985078898387322246454405345863242457920527678956162152550 59948311117747330159595925486624959052232709194022275720140860405623234407061 \",\"54065922519437628448720035995229428534756471701295819008759448522298579260766 27508365083867026240353318313933606431235929958553235937988768218428025259056 \",\"34108662608910093393871786200284197663183626001613389421965162850043184646241 3500428224194075348803985795403425339802800665049281682354028729523092476660 \"]}}'"
      ]
     },
     "execution_count": 70,
     "metadata": {},
     "output_type": "execute_result"
    }
   ],
   "source": [
    "response = requests.get(\"http://127.0.0.1:8000/get_msg/\",json={\n",
    "    \"receiver\":\"daniel\",\n",
    "    \"token\":\"6260de4b-165a-4600-919a-4638faa4e304\"\n",
    "})\n",
    "response.content.decode()"
   ]
  },
  {
   "cell_type": "code",
   "execution_count": 73,
   "metadata": {},
   "outputs": [
    {
     "data": {
      "text/plain": [
       "{'_content': b'{\"status\":true,\"public_key\":{\"user_name\":\"debs\",\"p\":111563883958474813278448103407766110718084434961425479734421999545020078263479,\"g\":62898513348283058986010407847308710226870838374067245703881236086997563372331,\"h\":99082072103985944381232179299947008686236619002416261888327397618335159125286,\"iNumBits\":256}}',\n",
       " '_content_consumed': True,\n",
       " '_next': None,\n",
       " 'status_code': 200,\n",
       " 'headers': {'date': 'Tue, 16 Jan 2024 03:34:59 GMT', 'server': 'uvicorn', 'content-length': '311', 'content-type': 'application/json'},\n",
       " 'raw': <urllib3.response.HTTPResponse at 0x7fa00ddd7cd0>,\n",
       " 'url': 'http://127.0.0.1:8000/get_public_key/debs',\n",
       " 'encoding': 'utf-8',\n",
       " 'history': [],\n",
       " 'reason': 'OK',\n",
       " 'cookies': <RequestsCookieJar[]>,\n",
       " 'elapsed': datetime.timedelta(microseconds=3785),\n",
       " 'request': <PreparedRequest [GET]>,\n",
       " 'connection': <requests.adapters.HTTPAdapter at 0x7fa00ddc7070>}"
      ]
     },
     "execution_count": 73,
     "metadata": {},
     "output_type": "execute_result"
    }
   ],
   "source": [
    "response = requests.get(\"http://127.0.0.1:8000/get_public_key/debs\",json={\n",
    "    \"receiver\":\"daniel\",\n",
    "    \"token\":\"6260de4b-165a-4600-919a-4638faa4e304\"\n",
    "})\n",
    "response.__dict__"
   ]
  },
  {
   "cell_type": "code",
   "execution_count": 71,
   "metadata": {},
   "outputs": [],
   "source": [
    "res = eval(response.content.decode().replace(\"true\",\"True\"))"
   ]
  },
  {
   "cell_type": "code",
   "execution_count": 72,
   "metadata": {},
   "outputs": [
    {
     "name": "stdout",
     "output_type": "stream",
     "text": [
      "Pilantra\n",
      "Pilantra\n",
      "Pilantra\n",
      "Pilantra\n",
      "Pilantra\n",
      "Pilantra\n",
      "Pilantra\n",
      "Pilantra\n"
     ]
    }
   ],
   "source": [
    "for msg in res['mesages']['lucas']:\n",
    "    print(daniel.receive_msg(msg))"
   ]
  }
 ],
 "metadata": {
  "kernelspec": {
   "display_name": "elgammal",
   "language": "python",
   "name": "python3"
  },
  "language_info": {
   "codemirror_mode": {
    "name": "ipython",
    "version": 3
   },
   "file_extension": ".py",
   "mimetype": "text/x-python",
   "name": "python",
   "nbconvert_exporter": "python",
   "pygments_lexer": "ipython3",
   "version": "3.8.18"
  }
 },
 "nbformat": 4,
 "nbformat_minor": 2
}
